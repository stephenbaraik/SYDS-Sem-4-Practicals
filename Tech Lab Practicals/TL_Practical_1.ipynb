{
  "cells": [
    {
      "cell_type": "code",
      "execution_count": 7,
      "metadata": {
        "id": "3OR6eDCGZ38R"
      },
      "outputs": [],
      "source": [
        "#Importing packages\n",
        "from sklearn import datasets\n",
        "import pandas as pd\n",
        "import statsmodels.api as sm\n",
        "\n",
        "# Import Gaussian Naive Bayes Model\n",
        "from sklearn.naive_bayes import GaussianNB\n",
        "from sklearn import metrics\n",
        "from sklearn.model_selection import train_test_split\n",
        "from sklearn.metrics import accuracy_score, recall_score, precision_score, f1_score\n",
        "from sklearn.metrics import confusion_matrix, classification_report, roc_auc_score\n",
        "import warnings\n",
        "warnings.filterwarnings(\"ignore\")\n",
        "import numpy as np"
      ]
    },
    {
      "cell_type": "code",
      "execution_count": 8,
      "metadata": {
        "colab": {
          "base_uri": "https://localhost:8080/",
          "height": 206
        },
        "id": "VCMO5oeGbP8A",
        "outputId": "b18db629-a64b-4c19-b637-2f6d9f35d672"
      },
      "outputs": [
        {
          "data": {
            "text/html": [
              "<div>\n",
              "<style scoped>\n",
              "    .dataframe tbody tr th:only-of-type {\n",
              "        vertical-align: middle;\n",
              "    }\n",
              "\n",
              "    .dataframe tbody tr th {\n",
              "        vertical-align: top;\n",
              "    }\n",
              "\n",
              "    .dataframe thead th {\n",
              "        text-align: right;\n",
              "    }\n",
              "</style>\n",
              "<table border=\"1\" class=\"dataframe\">\n",
              "  <thead>\n",
              "    <tr style=\"text-align: right;\">\n",
              "      <th></th>\n",
              "      <th>sepallengthcm</th>\n",
              "      <th>sepalwidthcm</th>\n",
              "      <th>petallengthcm</th>\n",
              "      <th>petalwidthcm</th>\n",
              "      <th>species</th>\n",
              "    </tr>\n",
              "  </thead>\n",
              "  <tbody>\n",
              "    <tr>\n",
              "      <th>0</th>\n",
              "      <td>5.1</td>\n",
              "      <td>3.5</td>\n",
              "      <td>1.4</td>\n",
              "      <td>0.2</td>\n",
              "      <td>0</td>\n",
              "    </tr>\n",
              "    <tr>\n",
              "      <th>1</th>\n",
              "      <td>4.9</td>\n",
              "      <td>3.0</td>\n",
              "      <td>1.4</td>\n",
              "      <td>0.2</td>\n",
              "      <td>0</td>\n",
              "    </tr>\n",
              "    <tr>\n",
              "      <th>2</th>\n",
              "      <td>4.7</td>\n",
              "      <td>3.2</td>\n",
              "      <td>1.3</td>\n",
              "      <td>0.2</td>\n",
              "      <td>0</td>\n",
              "    </tr>\n",
              "    <tr>\n",
              "      <th>3</th>\n",
              "      <td>4.6</td>\n",
              "      <td>3.1</td>\n",
              "      <td>1.5</td>\n",
              "      <td>0.2</td>\n",
              "      <td>0</td>\n",
              "    </tr>\n",
              "    <tr>\n",
              "      <th>4</th>\n",
              "      <td>5.0</td>\n",
              "      <td>3.6</td>\n",
              "      <td>1.4</td>\n",
              "      <td>0.2</td>\n",
              "      <td>0</td>\n",
              "    </tr>\n",
              "  </tbody>\n",
              "</table>\n",
              "</div>"
            ],
            "text/plain": [
              "   sepallengthcm  sepalwidthcm  petallengthcm  petalwidthcm  species\n",
              "0            5.1           3.5            1.4           0.2        0\n",
              "1            4.9           3.0            1.4           0.2        0\n",
              "2            4.7           3.2            1.3           0.2        0\n",
              "3            4.6           3.1            1.5           0.2        0\n",
              "4            5.0           3.6            1.4           0.2        0"
            ]
          },
          "execution_count": 8,
          "metadata": {},
          "output_type": "execute_result"
        }
      ],
      "source": [
        "# IRIS Dataset\n",
        "iriss = datasets.load_iris()\n",
        "iris = pd.DataFrame(iriss.data)\n",
        "iris.columns = iriss.feature_names\n",
        "iris['species'] = iriss.target\n",
        "iris.columns = iris.columns.str.replace(' ', '')\n",
        "iris.columns = iris.columns.str.replace('(','')\n",
        "iris.columns = iris.columns.str.replace(')','')\n",
        "iris.head()"
      ]
    },
    {
      "cell_type": "code",
      "execution_count": 9,
      "metadata": {
        "colab": {
          "base_uri": "https://localhost:8080/",
          "height": 209
        },
        "id": "xVVAVwg_dHXV",
        "outputId": "900da527-2da1-4315-8577-aea5ed2c0b12"
      },
      "outputs": [
        {
          "data": {
            "text/plain": [
              "species\n",
              "0    50\n",
              "1    50\n",
              "2    50\n",
              "Name: count, dtype: int64"
            ]
          },
          "execution_count": 9,
          "metadata": {},
          "output_type": "execute_result"
        }
      ],
      "source": [
        "# Target Column Distribution\n",
        "iris['species'].value_counts()"
      ]
    },
    {
      "cell_type": "markdown",
      "metadata": {
        "id": "vkDVKUkydbOM"
      },
      "source": [
        "from the above output, we see that data is balanced"
      ]
    },
    {
      "cell_type": "code",
      "execution_count": 10,
      "metadata": {
        "colab": {
          "base_uri": "https://localhost:8080/",
          "height": 772
        },
        "id": "YQXQzUDBdmqS",
        "outputId": "6463fc0f-aa0d-4f5a-c882-b1dcb798cb40"
      },
      "outputs": [
        {
          "data": {
            "text/html": [
              "<div>\n",
              "<style scoped>\n",
              "    .dataframe tbody tr th:only-of-type {\n",
              "        vertical-align: middle;\n",
              "    }\n",
              "\n",
              "    .dataframe tbody tr th {\n",
              "        vertical-align: top;\n",
              "    }\n",
              "\n",
              "    .dataframe thead th {\n",
              "        text-align: right;\n",
              "    }\n",
              "</style>\n",
              "<table border=\"1\" class=\"dataframe\">\n",
              "  <thead>\n",
              "    <tr style=\"text-align: right;\">\n",
              "      <th></th>\n",
              "      <th>sepallengthcm</th>\n",
              "      <th>sepalwidthcm</th>\n",
              "      <th>petallengthcm</th>\n",
              "      <th>petalwidthcm</th>\n",
              "    </tr>\n",
              "    <tr>\n",
              "      <th>species</th>\n",
              "      <th></th>\n",
              "      <th></th>\n",
              "      <th></th>\n",
              "      <th></th>\n",
              "    </tr>\n",
              "  </thead>\n",
              "  <tbody>\n",
              "    <tr>\n",
              "      <th>0</th>\n",
              "      <td>5.01</td>\n",
              "      <td>3.43</td>\n",
              "      <td>1.46</td>\n",
              "      <td>0.25</td>\n",
              "    </tr>\n",
              "    <tr>\n",
              "      <th>1</th>\n",
              "      <td>5.94</td>\n",
              "      <td>2.77</td>\n",
              "      <td>4.26</td>\n",
              "      <td>1.33</td>\n",
              "    </tr>\n",
              "    <tr>\n",
              "      <th>2</th>\n",
              "      <td>6.59</td>\n",
              "      <td>2.97</td>\n",
              "      <td>5.55</td>\n",
              "      <td>2.03</td>\n",
              "    </tr>\n",
              "  </tbody>\n",
              "</table>\n",
              "</div>"
            ],
            "text/plain": [
              "         sepallengthcm  sepalwidthcm  petallengthcm  petalwidthcm\n",
              "species                                                          \n",
              "0                 5.01          3.43           1.46          0.25\n",
              "1                 5.94          2.77           4.26          1.33\n",
              "2                 6.59          2.97           5.55          2.03"
            ]
          },
          "execution_count": 10,
          "metadata": {},
          "output_type": "execute_result"
        }
      ],
      "source": [
        "# Distribution ( mean) of Independent Columns respect to Dependent Column\n",
        "iris.groupby('species').mean().round(2)"
      ]
    },
    {
      "cell_type": "code",
      "execution_count": 11,
      "metadata": {
        "colab": {
          "base_uri": "https://localhost:8080/",
          "height": 300
        },
        "id": "opKOnckfeTny",
        "outputId": "35362ef0-8d33-42f5-f434-5c3dfd54d20a"
      },
      "outputs": [
        {
          "data": {
            "text/html": [
              "<div>\n",
              "<style scoped>\n",
              "    .dataframe tbody tr th:only-of-type {\n",
              "        vertical-align: middle;\n",
              "    }\n",
              "\n",
              "    .dataframe tbody tr th {\n",
              "        vertical-align: top;\n",
              "    }\n",
              "\n",
              "    .dataframe thead th {\n",
              "        text-align: right;\n",
              "    }\n",
              "</style>\n",
              "<table border=\"1\" class=\"dataframe\">\n",
              "  <thead>\n",
              "    <tr style=\"text-align: right;\">\n",
              "      <th></th>\n",
              "      <th>sepallengthcm</th>\n",
              "      <th>sepalwidthcm</th>\n",
              "      <th>petallengthcm</th>\n",
              "      <th>petalwidthcm</th>\n",
              "      <th>species</th>\n",
              "    </tr>\n",
              "  </thead>\n",
              "  <tbody>\n",
              "    <tr>\n",
              "      <th>count</th>\n",
              "      <td>150.000000</td>\n",
              "      <td>150.000000</td>\n",
              "      <td>150.000000</td>\n",
              "      <td>150.000000</td>\n",
              "      <td>150.000000</td>\n",
              "    </tr>\n",
              "    <tr>\n",
              "      <th>mean</th>\n",
              "      <td>5.843333</td>\n",
              "      <td>3.057333</td>\n",
              "      <td>3.758000</td>\n",
              "      <td>1.199333</td>\n",
              "      <td>1.000000</td>\n",
              "    </tr>\n",
              "    <tr>\n",
              "      <th>std</th>\n",
              "      <td>0.828066</td>\n",
              "      <td>0.435866</td>\n",
              "      <td>1.765298</td>\n",
              "      <td>0.762238</td>\n",
              "      <td>0.819232</td>\n",
              "    </tr>\n",
              "    <tr>\n",
              "      <th>min</th>\n",
              "      <td>4.300000</td>\n",
              "      <td>2.000000</td>\n",
              "      <td>1.000000</td>\n",
              "      <td>0.100000</td>\n",
              "      <td>0.000000</td>\n",
              "    </tr>\n",
              "    <tr>\n",
              "      <th>25%</th>\n",
              "      <td>5.100000</td>\n",
              "      <td>2.800000</td>\n",
              "      <td>1.600000</td>\n",
              "      <td>0.300000</td>\n",
              "      <td>0.000000</td>\n",
              "    </tr>\n",
              "    <tr>\n",
              "      <th>50%</th>\n",
              "      <td>5.800000</td>\n",
              "      <td>3.000000</td>\n",
              "      <td>4.350000</td>\n",
              "      <td>1.300000</td>\n",
              "      <td>1.000000</td>\n",
              "    </tr>\n",
              "    <tr>\n",
              "      <th>75%</th>\n",
              "      <td>6.400000</td>\n",
              "      <td>3.300000</td>\n",
              "      <td>5.100000</td>\n",
              "      <td>1.800000</td>\n",
              "      <td>2.000000</td>\n",
              "    </tr>\n",
              "    <tr>\n",
              "      <th>max</th>\n",
              "      <td>7.900000</td>\n",
              "      <td>4.400000</td>\n",
              "      <td>6.900000</td>\n",
              "      <td>2.500000</td>\n",
              "      <td>2.000000</td>\n",
              "    </tr>\n",
              "  </tbody>\n",
              "</table>\n",
              "</div>"
            ],
            "text/plain": [
              "       sepallengthcm  sepalwidthcm  petallengthcm  petalwidthcm     species\n",
              "count     150.000000    150.000000     150.000000    150.000000  150.000000\n",
              "mean        5.843333      3.057333       3.758000      1.199333    1.000000\n",
              "std         0.828066      0.435866       1.765298      0.762238    0.819232\n",
              "min         4.300000      2.000000       1.000000      0.100000    0.000000\n",
              "25%         5.100000      2.800000       1.600000      0.300000    0.000000\n",
              "50%         5.800000      3.000000       4.350000      1.300000    1.000000\n",
              "75%         6.400000      3.300000       5.100000      1.800000    2.000000\n",
              "max         7.900000      4.400000       6.900000      2.500000    2.000000"
            ]
          },
          "execution_count": 11,
          "metadata": {},
          "output_type": "execute_result"
        }
      ],
      "source": [
        "iris.describe()"
      ]
    },
    {
      "cell_type": "markdown",
      "metadata": {
        "id": "OMdgdyvsfVH2"
      },
      "source": [
        "from the above output, we can find if there are any errors in input."
      ]
    },
    {
      "cell_type": "code",
      "execution_count": 12,
      "metadata": {
        "colab": {
          "base_uri": "https://localhost:8080/"
        },
        "id": "P1_MgbuxfKze",
        "outputId": "6de594f1-6b45-4e77-e824-7076eb03113a"
      },
      "outputs": [
        {
          "name": "stdout",
          "output_type": "stream",
          "text": [
            "<class 'pandas.core.frame.DataFrame'>\n",
            "RangeIndex: 150 entries, 0 to 149\n",
            "Data columns (total 5 columns):\n",
            " #   Column         Non-Null Count  Dtype  \n",
            "---  ------         --------------  -----  \n",
            " 0   sepallengthcm  150 non-null    float64\n",
            " 1   sepalwidthcm   150 non-null    float64\n",
            " 2   petallengthcm  150 non-null    float64\n",
            " 3   petalwidthcm   150 non-null    float64\n",
            " 4   species        150 non-null    int64  \n",
            "dtypes: float64(4), int64(1)\n",
            "memory usage: 6.0 KB\n"
          ]
        }
      ],
      "source": [
        "iris.info()"
      ]
    },
    {
      "cell_type": "markdown",
      "metadata": {
        "id": "eNv5f8NwfoA1"
      },
      "source": [
        "from the above ouput, we can draw the information about the data"
      ]
    },
    {
      "cell_type": "code",
      "execution_count": 13,
      "metadata": {
        "colab": {
          "base_uri": "https://localhost:8080/",
          "height": 206
        },
        "id": "NEEDgupQgI6p",
        "outputId": "cfb64846-af15-40ae-efd2-4cf8b9bb9014"
      },
      "outputs": [
        {
          "data": {
            "text/html": [
              "<div>\n",
              "<style scoped>\n",
              "    .dataframe tbody tr th:only-of-type {\n",
              "        vertical-align: middle;\n",
              "    }\n",
              "\n",
              "    .dataframe tbody tr th {\n",
              "        vertical-align: top;\n",
              "    }\n",
              "\n",
              "    .dataframe thead th {\n",
              "        text-align: right;\n",
              "    }\n",
              "</style>\n",
              "<table border=\"1\" class=\"dataframe\">\n",
              "  <thead>\n",
              "    <tr style=\"text-align: right;\">\n",
              "      <th></th>\n",
              "      <th>sepallengthcm</th>\n",
              "      <th>sepalwidthcm</th>\n",
              "      <th>petallengthcm</th>\n",
              "      <th>petalwidthcm</th>\n",
              "    </tr>\n",
              "  </thead>\n",
              "  <tbody>\n",
              "    <tr>\n",
              "      <th>0</th>\n",
              "      <td>5.1</td>\n",
              "      <td>3.5</td>\n",
              "      <td>1.4</td>\n",
              "      <td>0.2</td>\n",
              "    </tr>\n",
              "    <tr>\n",
              "      <th>1</th>\n",
              "      <td>4.9</td>\n",
              "      <td>3.0</td>\n",
              "      <td>1.4</td>\n",
              "      <td>0.2</td>\n",
              "    </tr>\n",
              "    <tr>\n",
              "      <th>2</th>\n",
              "      <td>4.7</td>\n",
              "      <td>3.2</td>\n",
              "      <td>1.3</td>\n",
              "      <td>0.2</td>\n",
              "    </tr>\n",
              "    <tr>\n",
              "      <th>3</th>\n",
              "      <td>4.6</td>\n",
              "      <td>3.1</td>\n",
              "      <td>1.5</td>\n",
              "      <td>0.2</td>\n",
              "    </tr>\n",
              "    <tr>\n",
              "      <th>4</th>\n",
              "      <td>5.0</td>\n",
              "      <td>3.6</td>\n",
              "      <td>1.4</td>\n",
              "      <td>0.2</td>\n",
              "    </tr>\n",
              "  </tbody>\n",
              "</table>\n",
              "</div>"
            ],
            "text/plain": [
              "   sepallengthcm  sepalwidthcm  petallengthcm  petalwidthcm\n",
              "0            5.1           3.5            1.4           0.2\n",
              "1            4.9           3.0            1.4           0.2\n",
              "2            4.7           3.2            1.3           0.2\n",
              "3            4.6           3.1            1.5           0.2\n",
              "4            5.0           3.6            1.4           0.2"
            ]
          },
          "execution_count": 13,
          "metadata": {},
          "output_type": "execute_result"
        }
      ],
      "source": [
        "# Independent variables\n",
        "Independent_Variable_Base_Set = iris[iris.columns[0:4]]\n",
        "Independent_Variable_Base_Set.head()"
      ]
    },
    {
      "cell_type": "code",
      "execution_count": 14,
      "metadata": {
        "colab": {
          "base_uri": "https://localhost:8080/",
          "height": 206
        },
        "id": "ENAN1lNUgo7U",
        "outputId": "35acfadd-d898-470b-c1fa-c4c9cab524c4"
      },
      "outputs": [
        {
          "data": {
            "text/html": [
              "<div>\n",
              "<style scoped>\n",
              "    .dataframe tbody tr th:only-of-type {\n",
              "        vertical-align: middle;\n",
              "    }\n",
              "\n",
              "    .dataframe tbody tr th {\n",
              "        vertical-align: top;\n",
              "    }\n",
              "\n",
              "    .dataframe thead th {\n",
              "        text-align: right;\n",
              "    }\n",
              "</style>\n",
              "<table border=\"1\" class=\"dataframe\">\n",
              "  <thead>\n",
              "    <tr style=\"text-align: right;\">\n",
              "      <th></th>\n",
              "      <th>species</th>\n",
              "    </tr>\n",
              "  </thead>\n",
              "  <tbody>\n",
              "    <tr>\n",
              "      <th>0</th>\n",
              "      <td>0</td>\n",
              "    </tr>\n",
              "    <tr>\n",
              "      <th>1</th>\n",
              "      <td>0</td>\n",
              "    </tr>\n",
              "    <tr>\n",
              "      <th>2</th>\n",
              "      <td>0</td>\n",
              "    </tr>\n",
              "    <tr>\n",
              "      <th>3</th>\n",
              "      <td>0</td>\n",
              "    </tr>\n",
              "    <tr>\n",
              "      <th>4</th>\n",
              "      <td>0</td>\n",
              "    </tr>\n",
              "  </tbody>\n",
              "</table>\n",
              "</div>"
            ],
            "text/plain": [
              "   species\n",
              "0        0\n",
              "1        0\n",
              "2        0\n",
              "3        0\n",
              "4        0"
            ]
          },
          "execution_count": 14,
          "metadata": {},
          "output_type": "execute_result"
        }
      ],
      "source": [
        "# Dependent variable\n",
        "Dependent_Variable = iris[iris.columns[-1:iris.columns.size]]\n",
        "Dependent_Variable.head()"
      ]
    },
    {
      "cell_type": "code",
      "execution_count": 15,
      "metadata": {
        "colab": {
          "base_uri": "https://localhost:8080/"
        },
        "id": "8CZNri-GhMZ0",
        "outputId": "4ce5e52b-401c-4f6f-feb9-6afb840a6b44"
      },
      "outputs": [
        {
          "data": {
            "text/plain": [
              "['__abstractmethods__',\n",
              " '__annotations__',\n",
              " '__class__',\n",
              " '__delattr__',\n",
              " '__dict__',\n",
              " '__dir__',\n",
              " '__doc__',\n",
              " '__eq__',\n",
              " '__firstlineno__',\n",
              " '__format__',\n",
              " '__ge__',\n",
              " '__getattribute__',\n",
              " '__getstate__',\n",
              " '__gt__',\n",
              " '__hash__',\n",
              " '__init__',\n",
              " '__init_subclass__',\n",
              " '__le__',\n",
              " '__lt__',\n",
              " '__module__',\n",
              " '__ne__',\n",
              " '__new__',\n",
              " '__reduce__',\n",
              " '__reduce_ex__',\n",
              " '__repr__',\n",
              " '__setattr__',\n",
              " '__setstate__',\n",
              " '__sizeof__',\n",
              " '__sklearn_clone__',\n",
              " '__sklearn_tags__',\n",
              " '__static_attributes__',\n",
              " '__str__',\n",
              " '__subclasshook__',\n",
              " '__weakref__',\n",
              " '_abc_impl',\n",
              " '_build_request_for_signature',\n",
              " '_check_X',\n",
              " '_check_feature_names',\n",
              " '_check_n_features',\n",
              " '_doc_link_module',\n",
              " '_doc_link_template',\n",
              " '_doc_link_url_param_generator',\n",
              " '_estimator_type',\n",
              " '_get_default_requests',\n",
              " '_get_doc_link',\n",
              " '_get_metadata_request',\n",
              " '_get_param_names',\n",
              " '_get_tags',\n",
              " '_joint_log_likelihood',\n",
              " '_more_tags',\n",
              " '_parameter_constraints',\n",
              " '_partial_fit',\n",
              " '_repr_html_',\n",
              " '_repr_html_inner',\n",
              " '_repr_mimebundle_',\n",
              " '_update_mean_variance',\n",
              " '_validate_data',\n",
              " '_validate_params',\n",
              " 'class_count_',\n",
              " 'class_prior_',\n",
              " 'classes_',\n",
              " 'epsilon_',\n",
              " 'feature_names_in_',\n",
              " 'fit',\n",
              " 'get_metadata_routing',\n",
              " 'get_params',\n",
              " 'n_features_in_',\n",
              " 'partial_fit',\n",
              " 'predict',\n",
              " 'predict_joint_log_proba',\n",
              " 'predict_log_proba',\n",
              " 'predict_proba',\n",
              " 'priors',\n",
              " 'score',\n",
              " 'set_fit_request',\n",
              " 'set_params',\n",
              " 'set_partial_fit_request',\n",
              " 'set_score_request',\n",
              " 'theta_',\n",
              " 'var_',\n",
              " 'var_smoothing']"
            ]
          },
          "execution_count": 15,
          "metadata": {},
          "output_type": "execute_result"
        }
      ],
      "source": [
        "# Split the Dataset\n",
        "\n",
        "# Model 1\n",
        "# Lets start with selecting one variable\n",
        "Independent_Variable_Set_v1 = iris[iris.columns[0:1]]\n",
        "X_train, X_test, y_train, y_test = train_test_split(Independent_Variable_Set_v1, Dependent_Variable, test_size = 0.3, random_state = 21)\n",
        "\n",
        "# Create a Gaussian Classifier\n",
        "model = GaussianNB()\n",
        "\n",
        "# Train the model using the training sets\n",
        "result = model.fit(X_train, y_train)\n",
        "dir(result)"
      ]
    },
    {
      "cell_type": "code",
      "execution_count": 22,
      "metadata": {
        "colab": {
          "base_uri": "https://localhost:8080/"
        },
        "id": "F1dxaVXlkvHa",
        "outputId": "280150fc-1e9e-47bc-b142-0b97504332d9"
      },
      "outputs": [
        {
          "name": "stdout",
          "output_type": "stream",
          "text": [
            "Sample Prediction of Model 1\n"
          ]
        },
        {
          "data": {
            "text/plain": [
              "0    1\n",
              "1    0\n",
              "2    0\n",
              "3    0\n",
              "4    1\n",
              "Name: Prediction, dtype: int64"
            ]
          },
          "execution_count": 22,
          "metadata": {},
          "output_type": "execute_result"
        }
      ],
      "source": [
        "# Model Prediction\n",
        "print(\"Sample Prediction of Model 1\")\n",
        "pred = result.predict(X_test)\n",
        "model_prediction = pd.DataFrame(pred.round(2), columns = ['Prediction'])\n",
        "model_prediction['Prediction'].head()"
      ]
    },
    {
      "cell_type": "code",
      "execution_count": 21,
      "metadata": {
        "colab": {
          "base_uri": "https://localhost:8080/"
        },
        "id": "OBDtq30BlEla",
        "outputId": "a4067e6c-de50-4011-8644-0394b4f395d6"
      },
      "outputs": [
        {
          "name": "stdout",
          "output_type": "stream",
          "text": [
            "\n",
            "Test Set Distribution\n"
          ]
        },
        {
          "data": {
            "text/plain": [
              "species\n",
              "1    16\n",
              "2    15\n",
              "0    14\n",
              "Name: count, dtype: int64"
            ]
          },
          "execution_count": 21,
          "metadata": {},
          "output_type": "execute_result"
        }
      ],
      "source": [
        "# Test Set Target Column Distribution\n",
        "print(\"\\nTest Set Distribution\")\n",
        "y_test['species'].value_counts()"
      ]
    },
    {
      "cell_type": "code",
      "execution_count": 23,
      "metadata": {
        "colab": {
          "base_uri": "https://localhost:8080/"
        },
        "id": "SjoVHbXbm7HP",
        "outputId": "f2f7d8b5-1e16-499a-ae46-aae7ca33b90c"
      },
      "outputs": [
        {
          "name": "stdout",
          "output_type": "stream",
          "text": [
            "\n",
            "Predicted Set Distribution\n"
          ]
        },
        {
          "data": {
            "text/plain": [
              "Prediction\n",
              "2    17\n",
              "1    14\n",
              "0    14\n",
              "Name: count, dtype: int64"
            ]
          },
          "execution_count": 23,
          "metadata": {},
          "output_type": "execute_result"
        }
      ],
      "source": [
        "# Predicted Set Target Column Distribution\n",
        "print(\"\\nPredicted Set Distribution\")\n",
        "model_prediction['Prediction'].value_counts()"
      ]
    },
    {
      "cell_type": "markdown",
      "metadata": {
        "id": "MK8oJKrPnNRe"
      },
      "source": [
        "Inference: We cannot infer anything with a single column (as there is difference between test set and predicted set), hence, we will use all the columns"
      ]
    },
    {
      "cell_type": "code",
      "execution_count": 27,
      "metadata": {
        "colab": {
          "base_uri": "https://localhost:8080/"
        },
        "id": "yw_Q9JyBnspl",
        "outputId": "34c60a4f-32d6-4654-af94-bf56970f567e"
      },
      "outputs": [
        {
          "name": "stdout",
          "output_type": "stream",
          "text": [
            "Model 1 Performance\n",
            "\n",
            "Model 1, Accuracy : 0.9555555555555556\n",
            "Model 1, Precision : 0.9555555555555556\n",
            "Model 1, Recall : 0.9555555555555556\n",
            "Model 1, F1 Score : 0.9555555555555556\n",
            "\n",
            "Confusion Matrix, Model 1\n",
            "[[14  0  0]\n",
            " [ 0 14  2]\n",
            " [ 0  0 15]]\n",
            "\n",
            "Classification Report, Model 1\n"
          ]
        }
      ],
      "source": [
        "# Model Performance\n",
        "\n",
        "y_pred = model_prediction[['Prediction']]\n",
        "model_1_accuracy = accuracy_score(y_test, y_pred)\n",
        "print(\"Model 1 Performance\")\n",
        "print(\"\\nModel 1, Accuracy :\",model_1_accuracy)\n",
        "model_1_precision = precision_score(y_test, y_pred, average='micro')\n",
        "print(\"Model 1, Precision :\",model_1_precision)\n",
        "model_1_recall = recall_score(y_test, y_pred, average='micro')\n",
        "print(\"Model 1, Recall :\",model_1_recall)\n",
        "model_1_fscore = f1_score(y_test, y_pred, average='micro')\n",
        "print(\"Model 1, F1 Score :\",model_1_fscore)\n",
        "print(\"\\nConfusion Matrix, Model 1\")\n",
        "model_1_cm = confusion_matrix(y_test,y_pred)\n",
        "print(model_1_cm)\n",
        "print(\"\\nClassification Report, Model 1\")"
      ]
    },
    {
      "cell_type": "code",
      "execution_count": 28,
      "metadata": {
        "colab": {
          "base_uri": "https://localhost:8080/"
        },
        "id": "dtqfjFKbz1tN",
        "outputId": "a3b32268-52b0-4ec5-c1c9-757294d157f7"
      },
      "outputs": [
        {
          "name": "stdout",
          "output_type": "stream",
          "text": [
            "Sample Prediction of Model 2\n",
            "0    1\n",
            "1    0\n",
            "2    0\n",
            "3    0\n",
            "4    1\n",
            "Name: Prediction, dtype: int64\n",
            "\n",
            "Test Set Distribution\n",
            "species\n",
            "1    16\n",
            "2    15\n",
            "0    14\n",
            "Name: count, dtype: int64\n",
            "Model 1 Performance\n",
            "\n",
            "Model 1, Accuracy : 0.9555555555555556\n",
            "Model 1, Precision : 0.9555555555555556\n",
            "Model 1, Recall : 0.9555555555555556\n",
            "Model 1, F1 Score : 0.9555555555555556\n",
            "\n",
            "Confusion Matrix, Model 1\n",
            "[[14  0  0]\n",
            " [ 0 14  2]\n",
            " [ 0  0 15]]\n",
            "\n",
            "Classification Report, Model 1\n",
            "              precision    recall  f1-score   support\n",
            "\n",
            "           0       1.00      1.00      1.00        14\n",
            "           1       1.00      0.88      0.93        16\n",
            "           2       0.88      1.00      0.94        15\n",
            "\n",
            "    accuracy                           0.96        45\n",
            "   macro avg       0.96      0.96      0.96        45\n",
            "weighted avg       0.96      0.96      0.96        45\n",
            "\n",
            "Inference : Good Fit, can we make it better ?\n"
          ]
        }
      ],
      "source": [
        "# Model 2\n",
        "# Lets build model with all variables\n",
        "\n",
        "X_train, X_test, y_train, y_test = train_test_split(Independent_Variable_Base_Set, Dependent_Variable, test_size = 0.3, random_state = 21)\n",
        "\n",
        "# Train the model using the training sets\n",
        "result = model.fit(X_train, y_train)\n",
        "\n",
        "# Model Prediction\n",
        "print(\"Sample Prediction of Model 2\")\n",
        "pred = result.predict(X_test)\n",
        "model_prediction = pd.DataFrame(pred.round(2), columns = ['Prediction'])\n",
        "print(model_prediction['Prediction'].head())\n",
        "\n",
        "# Test Set Target Column Distribution\n",
        "print(\"\\nTest Set Distribution\")\n",
        "print(y_test['species'].value_counts())\n",
        "\n",
        "# Model Performance\n",
        "y_pred = model_prediction[['Prediction']]\n",
        "model_1_accuracy = accuracy_score(y_test, y_pred)\n",
        "print(\"Model 1 Performance\")\n",
        "print(\"\\nModel 1, Accuracy :\",model_1_accuracy)\n",
        "model_1_precision = precision_score(y_test, y_pred, average='micro')\n",
        "print(\"Model 1, Precision :\",model_1_precision)\n",
        "model_1_recall = recall_score(y_test, y_pred, average='micro')\n",
        "print(\"Model 1, Recall :\",model_1_recall)\n",
        "model_1_fscore = f1_score(y_test, y_pred, average='micro')\n",
        "print(\"Model 1, F1 Score :\",model_1_fscore)\n",
        "print(\"\\nConfusion Matrix, Model 1\")\n",
        "model_1_cm = confusion_matrix(y_test,y_pred)\n",
        "print(model_1_cm)\n",
        "print(\"\\nClassification Report, Model 1\")\n",
        "model_1_cr = classification_report(y_test,y_pred)\n",
        "print(model_1_cr)\n",
        "\n",
        "print(\"Inference : Good Fit, can we make it better ?\")"
      ]
    }
  ],
  "metadata": {
    "colab": {
      "include_colab_link": true,
      "provenance": []
    },
    "kernelspec": {
      "display_name": ".venv",
      "language": "python",
      "name": "python3"
    },
    "language_info": {
      "codemirror_mode": {
        "name": "ipython",
        "version": 3
      },
      "file_extension": ".py",
      "mimetype": "text/x-python",
      "name": "python",
      "nbconvert_exporter": "python",
      "pygments_lexer": "ipython3",
      "version": "3.13.1"
    }
  },
  "nbformat": 4,
  "nbformat_minor": 0
}
